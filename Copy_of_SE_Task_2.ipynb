{
  "nbformat": 4,
  "nbformat_minor": 0,
  "metadata": {
    "colab": {
      "provenance": [],
      "include_colab_link": true
    },
    "kernelspec": {
      "name": "python3",
      "display_name": "Python 3"
    },
    "language_info": {
      "name": "python"
    }
  },
  "cells": [
    {
      "cell_type": "markdown",
      "metadata": {
        "id": "view-in-github",
        "colab_type": "text"
      },
      "source": [
        "<a href=\"https://colab.research.google.com/github/Saikrishna2k05/First-Repository-HU22CSEN0100302/blob/main/Copy_of_SE_Task_2.ipynb\" target=\"_parent\"><img src=\"https://colab.research.google.com/assets/colab-badge.svg\" alt=\"Open In Colab\"/></a>"
      ]
    },
    {
      "cell_type": "code",
      "execution_count": null,
      "metadata": {
        "id": "VMpO2bqlm0_y"
      },
      "outputs": [],
      "source": [
        "def Temp_modelling(a,b,c,time):\n",
        "  temp=a*time**2+b*time+c\n",
        "  return temp"
      ]
    },
    {
      "cell_type": "code",
      "source": [
        "#Hardcoded variables\n",
        "a,b,c=0.1,2,10\n",
        "time=5\n",
        "print(\"Hardcoded variables for weather modelling\")\n",
        "print(\"Temperature for hardcoded temperature at time\",time,\"hours\",Temp_modelling(a,b,c,time))"
      ],
      "metadata": {
        "id": "djjO0lgzqhOb"
      },
      "execution_count": null,
      "outputs": []
    },
    {
      "cell_type": "code",
      "source": [
        "#variables read from keyboard\n",
        "a=float(input(\"Enter value of a: \"))\n",
        "b=float(input(\"Enter value of b: \"))\n",
        "c=float(input(\"Enter value of c: \"))\n",
        "time=float(input(\"Enter value of time: \"))\n",
        "print(\"Keyboard input variables for weather modelling\")\n",
        "print(\"Temperature for hardcoded temperature at time\",time,\"hours\",Temp_modelling(a,b,c,time))"
      ],
      "metadata": {
        "id": "zmm5Ocpcq25U"
      },
      "execution_count": null,
      "outputs": []
    },
    {
      "cell_type": "code",
      "source": [
        "#read from file\n",
        "def read_from_file(filename):\n",
        "  with open(filename,'r') as f:\n",
        "    lines=f.readlines()\n",
        "  coeffiecients=[tuple(map(float,line.strip().split(','))) for line in lines]\n",
        "  return coeffiecients"
      ],
      "metadata": {
        "id": "IX5iajmrrPm0"
      },
      "execution_count": null,
      "outputs": []
    },
    {
      "cell_type": "code",
      "source": [
        "#example: solve for a single set of inputs\n",
        "coeffiecients=read_from_file('/content/coeffiecients.txt')\n",
        "a,b,c,time=coeffiecients[0]\n",
        "temp=Temp_modelling(a,b,c,time)\n",
        "print(\"read from a file for weather modelling\")\n",
        "print(\"Temperature for keyboard coefficients at time\",time,\"hours\",Temp_modelling(a,b,c,time))"
      ],
      "metadata": {
        "colab": {
          "base_uri": "https://localhost:8080/"
        },
        "id": "ODdkfCfIrnKU",
        "outputId": "dd504574-2c45-461e-fc97-04a5af5669d1"
      },
      "execution_count": null,
      "outputs": [
        {
          "output_type": "stream",
          "name": "stdout",
          "text": [
            "read from a file for weather modelling\n",
            "Temperature for keyboard coefficients at time 4.0 hours 38.4\n"
          ]
        }
      ]
    },
    {
      "cell_type": "code",
      "source": [
        "#solve for all sets in the file\n",
        "for idx,(a,b,c,time) in enumerate(coeffiecients):\n",
        "  temp=Temp_modelling(a,b,c,time)\n",
        "  print(\"Temperature for keyboard coefficients at time\",time,\"hours\",temp)"
      ],
      "metadata": {
        "colab": {
          "base_uri": "https://localhost:8080/"
        },
        "id": "yXzi50kIr8s7",
        "outputId": "857c4fd2-6761-407a-d679-faa4829b04f4"
      },
      "execution_count": null,
      "outputs": [
        {
          "output_type": "stream",
          "name": "stdout",
          "text": [
            "Temperature for keyboard coefficients at time 4.0 hours 38.4\n",
            "Temperature for keyboard coefficients at time 2.0 hours 18.0\n",
            "Temperature for keyboard coefficients at time 11.0 hours 114.2\n",
            "Temperature for keyboard coefficients at time 5.0 hours 25.0\n"
          ]
        }
      ]
    }
  ]
}